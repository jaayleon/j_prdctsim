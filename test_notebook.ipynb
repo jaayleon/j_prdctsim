{
 "cells": [
  {
   "cell_type": "code",
   "execution_count": 13,
   "metadata": {},
   "outputs": [],
   "source": [
    "import numpy as np\n",
    "import pandas as pd\n",
    "import os\n",
    "from calc import ravisim\n",
    "from bom import leafcomponents_qp"
   ]
  },
  {
   "cell_type": "code",
   "execution_count": 2,
   "metadata": {},
   "outputs": [
    {
     "data": {
      "text/plain": [
       "'c:\\\\Users\\\\jbatulayan\\\\OneDrive - Factors Group Of Nutritional Companies Inc\\\\Desktop\\\\j_prdctsim\\\\j_prdctsim'"
      ]
     },
     "execution_count": 2,
     "metadata": {},
     "output_type": "execute_result"
    }
   ],
   "source": [
    "os.getcwd()"
   ]
  },
  {
   "cell_type": "code",
   "execution_count": 3,
   "metadata": {},
   "outputs": [],
   "source": [
    "BomStructure = pd.read_csv(os.path.join(os.getcwd(), \"..\",  \"data\", \"test_data\", \"test_BomStructure.csv\"))"
   ]
  },
  {
   "cell_type": "code",
   "execution_count": 4,
   "metadata": {},
   "outputs": [],
   "source": [
    "bom = BomStructure.to_numpy()"
   ]
  },
  {
   "cell_type": "code",
   "execution_count": 5,
   "metadata": {},
   "outputs": [
    {
     "data": {
      "text/plain": [
       "0.08"
      ]
     },
     "execution_count": 5,
     "metadata": {},
     "output_type": "execute_result"
    }
   ],
   "source": [
    "ravisim(\"PROD001\", \"PROD002\", bom)"
   ]
  },
  {
   "cell_type": "code",
   "execution_count": 12,
   "metadata": {},
   "outputs": [
    {
     "data": {
      "text/plain": [
       "array([['50118', 1.0]], dtype=object)"
      ]
     },
     "execution_count": 12,
     "metadata": {},
     "output_type": "execute_result"
    }
   ],
   "source": [
    "leafcomponents_qp(\"\", bom)"
   ]
  },
  {
   "cell_type": "code",
   "execution_count": 16,
   "metadata": {},
   "outputs": [],
   "source": [
    "if \"hyh\" == \"hh\" : print(1)"
   ]
  },
  {
   "cell_type": "code",
   "execution_count": 26,
   "metadata": {},
   "outputs": [
    {
     "data": {
      "text/plain": [
       "array(['PROD000', 'PROD000', 'PROD000', 'PROD000', 'PROD000', 'PROD000',\n",
       "       'PROD000', 'PROD001', 'PROD001', 'PROD001', 'PROD001', 'PROD001',\n",
       "       'PROD001', 'PROD001', 'PROD001', 'PROD002', 'PROD002', 'PROD002',\n",
       "       'PROD003', 'PROD003', 'PROD003', 'PROD003', 'PROD003', 'PROD003',\n",
       "       'PROD004', 'PROD004', 'PROD004', 'PROD004', 'PROD004', 'PROD004',\n",
       "       'PROD005', 'PROD005', 'PROD005', 'PROD005', 'PROD005', 'PROD005',\n",
       "       'PROD006', 'PROD006', 'PROD006', 'PROD006', 'PROD007', 'PROD007',\n",
       "       'PROD007', 'PROD007', 'PROD007', 'PROD007', 'PROD008', 'PROD008',\n",
       "       'PROD008', 'PROD008', 'PROD008', 'PROD008', 'PROD008', 'PROD008',\n",
       "       'PROD009', 'PROD009', 'PROD009', 'PROD009', 'PROD009', 'PROD010',\n",
       "       'PROD010', 'PROD010', 'PROD010', 'PROD010', 'PROD010', 'PROD010',\n",
       "       'PROD011', 'PROD011', 'PROD011', 'PROD011', 'PROD011', 'PROD011',\n",
       "       'PROD011', 'PROD011', 'PROD011', 'PROD012', 'PROD012', 'PROD012',\n",
       "       'PROD013', 'PROD013', 'PROD013', 'PROD014', 'PROD014', 'PROD014',\n",
       "       'PROD014', 'PROD014', 'PROD014', 'PROD014', 'PROD015', 'PROD015',\n",
       "       'PROD015', 'PROD015', 'PROD015', 'PROD016', 'PROD016', 'PROD016',\n",
       "       'PROD016', 'PROD017', 'PROD017', 'PROD017', 'PROD017', 'PROD017',\n",
       "       'PROD017', 'PROD017', 'PROD017', 'PROD017', 'PROD018', 'PROD018',\n",
       "       'PROD018', 'PROD018', 'PROD018', 'PROD018', 'PROD018', 'PROD018',\n",
       "       'PROD018', 'PROD019', 'PROD019', 'PROD019', 'PROD020', 'PROD020',\n",
       "       'PROD020', 'PROD020', 'L1000', 'L1000', 'L1000', 'L1000', 'L1001',\n",
       "       'L1001', 'L1001', 'L1001', 'L1002', 'L1002', 'L1002', 'L1003',\n",
       "       'L1003', 'L1003', 'L1004', 'L1004', 'L1005', 'L1005', 'L1006',\n",
       "       'L1006', 'L1006', 'L1006', 'L1007', 'L1007', 'L1007', 'L1008',\n",
       "       'L1008', 'L1008', 'L1008', 'L1009', 'L1009', 'L1010', 'L1010',\n",
       "       'L1010', 'L1011', 'L1011', 'L1011', 'L1011', 'L1012', 'L1012',\n",
       "       'L1012', 'L1013', 'L1013', 'L1014', 'L1014', 'L1015', 'L1015',\n",
       "       'L1015', 'L1015', 'L1016', 'L1016', 'L1017', 'L1017', 'L1017',\n",
       "       'L1017', 'L1018', 'L1018', 'L1018', 'L1018', 'L1019', 'L1019',\n",
       "       'L1019', 'L1019', 'L1020', 'L1020', 'L1021', 'L1021', 'L1022',\n",
       "       'L1022', 'L1022', 'L1023', 'L1023', 'L1023', 'L1024', 'L1024',\n",
       "       'L1024', 'L1025', 'L1025', 'L1025', 'L1025', 'L1026', 'L1026',\n",
       "       'L1026', 'L1027', 'L1027', 'L1027', 'L1027', 'L1028', 'L1028',\n",
       "       'L1029', 'L1029', 'L1029', 'L1029', 'L1030', 'L1030', 'L1030',\n",
       "       'L1030', 'L1031', 'L1031', 'L1031', 'L1032', 'L1032', 'L1032',\n",
       "       'L1032', 'L1033', 'L1033', 'L1034', 'L1034', 'L1034', 'L1035',\n",
       "       'L1035', 'L1035', 'L1035', 'L1036', 'L1036', 'L1036', 'L1036',\n",
       "       'L1037', 'L1037', 'L1038', 'L1038', 'L1039', 'L1039', 'L1039',\n",
       "       'L1039', 'L1040', 'L1040', 'L1040', 'L1041', 'L1041', 'L1041',\n",
       "       'L1042', 'L1042', 'L1043', 'L1043', 'L1043', 'L1043', 'L1044',\n",
       "       'L1044', 'L1044', 'L1045', 'L1045', 'L1046', 'L1046', 'L1046',\n",
       "       'L1046', 'L1047', 'L1047', 'L1047', 'L1047', 'L1048', 'L1048',\n",
       "       'L1048', 'L1049', 'L1049', 'L1049', 'L1049', 'PROD002', 'PROD015',\n",
       "       'L1025'], dtype=object)"
      ]
     },
     "execution_count": 26,
     "metadata": {},
     "output_type": "execute_result"
    }
   ],
   "source": [
    "bom[:,0]"
   ]
  },
  {
   "cell_type": "code",
   "execution_count": 25,
   "metadata": {},
   "outputs": [
    {
     "data": {
      "text/plain": [
       "array(False)"
      ]
     },
     "execution_count": 25,
     "metadata": {},
     "output_type": "execute_result"
    }
   ],
   "source": [
    "np.isin('NF1901C', bom[:,0])"
   ]
  },
  {
   "cell_type": "code",
   "execution_count": 31,
   "metadata": {},
   "outputs": [
    {
     "name": "stdout",
     "output_type": "stream",
     "text": [
      "skete\n"
     ]
    }
   ],
   "source": [
    "if ~np.isin('L1008', bom[:,0]) | ~np.isin('PROD017', bom[:,0]):\n",
    "    print('ye')\n",
    "else: \n",
    "    print('skete')"
   ]
  }
 ],
 "metadata": {
  "interpreter": {
   "hash": "0089911de3c02e3a72b3393411ffb37d6ed0707728a7070e5fa7141c0d66c099"
  },
  "kernelspec": {
   "display_name": "Python 3.8.12 ('base')",
   "language": "python",
   "name": "python3"
  },
  "language_info": {
   "codemirror_mode": {
    "name": "ipython",
    "version": 3
   },
   "file_extension": ".py",
   "mimetype": "text/x-python",
   "name": "python",
   "nbconvert_exporter": "python",
   "pygments_lexer": "ipython3",
   "version": "3.8.12"
  },
  "orig_nbformat": 4
 },
 "nbformat": 4,
 "nbformat_minor": 2
}
