{
 "cells": [
  {
   "cell_type": "code",
   "execution_count": 19,
   "metadata": {},
   "outputs": [],
   "source": [
    "import os\n",
    "import numpy as np\n",
    "import pandas as pd\n",
    "\n",
    "import matplotlib.pyplot as plt\n",
    "from matplotlib.pyplot import figure\n",
    "import networkx as nx\n",
    "from networkx.drawing.nx_agraph import  graphviz_layout\n",
    "from networkx.drawing.nx_pydot import graphviz_layout\n"
   ]
  },
  {
   "cell_type": "code",
   "execution_count": 2,
   "metadata": {},
   "outputs": [
    {
     "data": {
      "text/plain": [
       "'c:\\\\Users\\\\jbatulayan\\\\OneDrive - Factors Group Of Nutritional Companies Inc\\\\Desktop\\\\j_prdctsim\\\\data\\\\test_data\\\\notebooks'"
      ]
     },
     "execution_count": 2,
     "metadata": {},
     "output_type": "execute_result"
    }
   ],
   "source": [
    "os.getcwd()"
   ]
  },
  {
   "cell_type": "code",
   "execution_count": 3,
   "metadata": {},
   "outputs": [],
   "source": [
    "BomStructure = pd.read_csv(os.path.join(os.getcwd(), \"..\", \"test_BomStructure.csv\"))\n",
    "ProductSKUs = pd.read_csv(os.path.join(os.getcwd(), \"..\", \"test_ProductSKUs.csv\"))"
   ]
  },
  {
   "cell_type": "code",
   "execution_count": 4,
   "metadata": {},
   "outputs": [],
   "source": [
    "bom = BomStructure.to_numpy()\n",
    "skus = ProductSKUs.to_numpy().reshape(-1)"
   ]
  },
  {
   "cell_type": "code",
   "execution_count": 5,
   "metadata": {},
   "outputs": [],
   "source": [
    "def bomEdges(sku, par_comp_table):\n",
    "    sku = str(sku)\n",
    "    sku_edges = []\n",
    "\n",
    "    sku_table = par_comp_table[par_comp_table[:,0]==sku]\n",
    "    sku_comp = sku_table[:,1]\n",
    "\n",
    "    for comp in sku_comp:\n",
    "        temp_edge = (sku, comp)\n",
    "        sku_edges.append(temp_edge)\n",
    "        sku_edges = sku_edges + bomEdges(comp, par_comp_table)\n",
    "    \n",
    "    return sku_edges"
   ]
  },
  {
   "cell_type": "code",
   "execution_count": 6,
   "metadata": {},
   "outputs": [],
   "source": [
    "def bomTreeImage(sku, par_comp_table, save_path):\n",
    "    G = nx.DiGraph()\n",
    "    G.add_node(sku)\n",
    "    edges = bomEdges(sku, par_comp_table)\n",
    "    G.add_edges_from(edges)\n",
    "    pos =graphviz_layout(G, prog='dot')\n",
    "    figure(figsize=(10, 10), dpi=80)\n",
    "    nx.draw(G, pos, with_labels=True, arrows=False, node_size=1300, node_color=\"skyblue\", edge_color=\"grey\", width=2.0, node_shape=\"s\", alpha=0.6, linewidths=30, font_color=\"black\")\n",
    "    plt.savefig(os.path.join(save_path, '%s_bom_tree.jpeg' % sku))\n",
    "    plt.close()"
   ]
  },
  {
   "cell_type": "code",
   "execution_count": 7,
   "metadata": {},
   "outputs": [],
   "source": [
    "# save_to = os.path.join(os.getcwd(), \"test_bom_trees\")\n",
    "# for sku in skus:\n",
    "#     bomTreeImage(sku, bom, save_to)"
   ]
  },
  {
   "cell_type": "code",
   "execution_count": 8,
   "metadata": {},
   "outputs": [],
   "source": [
    "save_path = None"
   ]
  },
  {
   "cell_type": "code",
   "execution_count": 15,
   "metadata": {},
   "outputs": [
    {
     "data": {
      "text/plain": [
       "'gg_tree.pp'"
      ]
     },
     "execution_count": 15,
     "metadata": {},
     "output_type": "execute_result"
    }
   ],
   "source": [
    "\"{sku}_tree.{type}\".format(sku=\"gg\", type=\"pp\")"
   ]
  },
  {
   "cell_type": "code",
   "execution_count": 12,
   "metadata": {},
   "outputs": [
    {
     "data": {
      "text/plain": [
       "False"
      ]
     },
     "execution_count": 12,
     "metadata": {},
     "output_type": "execute_result"
    }
   ],
   "source": [
    "save_path = ''\n",
    "\n",
    "save_path is None"
   ]
  },
  {
   "cell_type": "code",
   "execution_count": 17,
   "metadata": {},
   "outputs": [
    {
     "data": {
      "text/plain": [
       "str"
      ]
     },
     "execution_count": 17,
     "metadata": {},
     "output_type": "execute_result"
    }
   ],
   "source": [
    "type(os.getcwd())"
   ]
  },
  {
   "cell_type": "code",
   "execution_count": 22,
   "metadata": {},
   "outputs": [],
   "source": [
    "tt = bom[:,1]"
   ]
  },
  {
   "cell_type": "code",
   "execution_count": 24,
   "metadata": {},
   "outputs": [],
   "source": [
    "tt = tt[np.argsort(tt)]"
   ]
  },
  {
   "cell_type": "code",
   "execution_count": 25,
   "metadata": {},
   "outputs": [
    {
     "data": {
      "text/plain": [
       "array(['L1000', 'L1000', 'L1000', 'L1000', 'L1001', 'L1001', 'L1001',\n",
       "       'L1002', 'L1003', 'L1003', 'L1003', 'L1003', 'L1004', 'L1004',\n",
       "       'L1004', 'L1004', 'L1005', 'L1006', 'L1006', 'L1006', 'L1006',\n",
       "       'L1007', 'L1007', 'L1007', 'L1007', 'L1007', 'L1007', 'L1008',\n",
       "       'L1008', 'L1008', 'L1008', 'L1008', 'L1009', 'L1009', 'L1009',\n",
       "       'L1010', 'L1010', 'L1011', 'L1011', 'L1011', 'L1011', 'L1012',\n",
       "       'L1012', 'L1012', 'L1012', 'L1012', 'L1013', 'L1013', 'L1013',\n",
       "       'L1013', 'L1013', 'L1014', 'L1015', 'L1015', 'L1015', 'L1016',\n",
       "       'L1016', 'L1017', 'L1018', 'L1018', 'L1019', 'L1020', 'L1020',\n",
       "       'L1020', 'L1021', 'L1021', 'L1021', 'L1022', 'L1022', 'L1022',\n",
       "       'L1023', 'L1023', 'L1023', 'L1023', 'L1023', 'L1023', 'L1023',\n",
       "       'L1024', 'L1024', 'L1024', 'L1025', 'L1025', 'L1025', 'L1025',\n",
       "       'L1026', 'L1026', 'L1027', 'L1027', 'L1028', 'L1028', 'L1029',\n",
       "       'L1030', 'L1030', 'L1032', 'L1032', 'L1032', 'L1034', 'L1034',\n",
       "       'L1036', 'L1037', 'L1037', 'L1037', 'L1038', 'L1039', 'L1040',\n",
       "       'L1041', 'L1041', 'L1041', 'L1042', 'L1042', 'L1043', 'L1043',\n",
       "       'L1043', 'L1045', 'L1045', 'L1046', 'L1047', 'L1047', 'L1047',\n",
       "       'L1049', 'L1049', 'L1049', 'L1049', 'L2000', 'L2000', 'L2000',\n",
       "       'L2000', 'L2001', 'L2001', 'L2001', 'L2002', 'L2002', 'L2003',\n",
       "       'L2003', 'L2004', 'L2004', 'L2004', 'L2005', 'L2005', 'L2005',\n",
       "       'L2005', 'L2005', 'L2006', 'L2006', 'L2007', 'L2007', 'L2007',\n",
       "       'L2007', 'L2008', 'L2008', 'L2008', 'L2009', 'L2009', 'L2009',\n",
       "       'L2009', 'L2010', 'L2011', 'L2011', 'L2011', 'L2012', 'L2012',\n",
       "       'L2013', 'L2013', 'L2013', 'L2013', 'L2013', 'L2014', 'L2014',\n",
       "       'L2014', 'L2014', 'L2014', 'L2014', 'L2015', 'L2015', 'L2015',\n",
       "       'L2016', 'L2016', 'L2016', 'L2016', 'L2016', 'L2016', 'L2016',\n",
       "       'L2016', 'L2017', 'L2018', 'L2018', 'L2018', 'L2018', 'L2018',\n",
       "       'L2018', 'L2018', 'L2018', 'L2019', 'L2019', 'L2019', 'L2019',\n",
       "       'L2019', 'L2020', 'L2020', 'L2020', 'L2021', 'L2022', 'L2022',\n",
       "       'L2022', 'L2022', 'L2022', 'L2024', 'L2024', 'L2025', 'L2026',\n",
       "       'L2026', 'L2027', 'L2027', 'L2027', 'L2027', 'L2027', 'L2027',\n",
       "       'L2028', 'L2028', 'L2028', 'L2029', 'L2029', 'L2030', 'L2030',\n",
       "       'L2030', 'L2030', 'L2030', 'L2030', 'L2030', 'L2031', 'L2031',\n",
       "       'L2031', 'L2031', 'L2032', 'L2032', 'L2032', 'L2033', 'L2033',\n",
       "       'L2034', 'L2035', 'L2035', 'L2036', 'L2036', 'L2036', 'L2036',\n",
       "       'L2037', 'L2038', 'L2038', 'L2038', 'L2039', 'L2039', 'L2039',\n",
       "       'L2039', 'L2040', 'L2041', 'L2041', 'L2041', 'L2041', 'L2041',\n",
       "       'L2041', 'L2042', 'L2043', 'L2043', 'L2043', 'L2044', 'L2044',\n",
       "       'L2044', 'L2044', 'L2045', 'L2045', 'L2046', 'L2047', 'L2047',\n",
       "       'L2047', 'L2047', 'L2047', 'L2047', 'L2048', 'L2049', 'L2049',\n",
       "       'L2049', 'L2049'], dtype=object)"
      ]
     },
     "execution_count": 25,
     "metadata": {},
     "output_type": "execute_result"
    }
   ],
   "source": [
    "tt"
   ]
  }
 ],
 "metadata": {
  "interpreter": {
   "hash": "0089911de3c02e3a72b3393411ffb37d6ed0707728a7070e5fa7141c0d66c099"
  },
  "kernelspec": {
   "display_name": "Python 3.8.12 ('base')",
   "language": "python",
   "name": "python3"
  },
  "language_info": {
   "codemirror_mode": {
    "name": "ipython",
    "version": 3
   },
   "file_extension": ".py",
   "mimetype": "text/x-python",
   "name": "python",
   "nbconvert_exporter": "python",
   "pygments_lexer": "ipython3",
   "version": "3.8.12"
  },
  "orig_nbformat": 4
 },
 "nbformat": 4,
 "nbformat_minor": 2
}
