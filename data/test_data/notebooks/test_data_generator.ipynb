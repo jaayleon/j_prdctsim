{
 "cells": [
  {
   "cell_type": "markdown",
   "metadata": {},
   "source": [
    "Generate a test data for a suedo Bill of Materials (BoM)"
   ]
  },
  {
   "cell_type": "code",
   "execution_count": 1,
   "metadata": {},
   "outputs": [],
   "source": [
    "import numpy as np\n",
    "import pandas as pd\n",
    "\n",
    "import os"
   ]
  },
  {
   "cell_type": "code",
   "execution_count": 2,
   "metadata": {},
   "outputs": [],
   "source": [
    "# Generate Products\n",
    "size_products = 21\n",
    "products = []\n",
    "for i in range(size_products):\n",
    "    num = str(i)\n",
    "    zeroes = 3 - len(num)\n",
    "    serial = \"000\"[:zeroes] + num\n",
    "    products.append(\"PROD_\" + serial)"
   ]
  },
  {
   "cell_type": "code",
   "execution_count": 3,
   "metadata": {},
   "outputs": [],
   "source": [
    "ProductCodes = pd.DataFrame(data = products, columns=[\"SKU\"])"
   ]
  },
  {
   "cell_type": "code",
   "execution_count": 4,
   "metadata": {},
   "outputs": [],
   "source": [
    "# Generate Layer 1 Componets\n",
    "size_L1_components = 50\n",
    "L1_components = []\n",
    "for i in range(size_L1_components):\n",
    "    num = str(i)\n",
    "    zeroes = 3 - len(num)\n",
    "    serial = \"000\"[:zeroes] + num\n",
    "    L1_components.append(\"L1_\" + serial)\n"
   ]
  },
  {
   "cell_type": "code",
   "execution_count": 5,
   "metadata": {},
   "outputs": [],
   "source": [
    "# Generate Layer 2 Componets\n",
    "\n",
    "size_L2_components = 50\n",
    "L2_components = []\n",
    "for i in range(size_L2_components):\n",
    "    num = str(i)\n",
    "    zeroes = 3 - len(num)\n",
    "    serial = \"000\"[:zeroes] + num\n",
    "    L2_components.append(\"L2_\" + serial)"
   ]
  },
  {
   "cell_type": "code",
   "execution_count": 6,
   "metadata": {},
   "outputs": [],
   "source": [
    "BoMStructure = pd.DataFrame(columns=[\"Parent\", \"Component\", \"QtyPer\"])"
   ]
  },
  {
   "cell_type": "code",
   "execution_count": 7,
   "metadata": {},
   "outputs": [],
   "source": [
    "# Product : Layer1\n",
    "\n",
    "np.random.seed(0)\n",
    "num_product_comps = np.random.randint(3,10, size=size_products)\n",
    "\n",
    "np.random.seed(1)\n",
    "L1_inds = np.random.randint(0,size_L1_components, size=sum(num_product_comps))\n",
    "\n",
    "np.random.seed(2)\n",
    "prod_qp_numerators = np.random.randint(1,10, size=sum(num_product_comps))\n",
    "np.random.seed(3)\n",
    "prod_qp_denominators = np.random.randint(1,10, size=sum(num_product_comps))\n",
    "prod_qty_pers = np.around(prod_qp_numerators/prod_qp_denominators, 3)\n",
    "\n",
    "prod_comp_ind = 0\n",
    "for i in range(size_products):\n",
    "    parent = products[i]\n",
    "    num_comps = num_product_comps[i]\n",
    "\n",
    "    for j in range(num_comps):\n",
    "        component = L1_components[L1_inds[prod_comp_ind]]\n",
    "        qty_per = prod_qty_pers[prod_comp_ind]\n",
    "        prod_comp_ind += 1\n",
    "        temp = pd.DataFrame(\n",
    "            data=[[parent, component, qty_per]],\n",
    "            columns=[\"Parent\", \"Component\", \"QtyPer\"]\n",
    "            )\n",
    "        BoMStructure = BoMStructure.append(temp)"
   ]
  },
  {
   "cell_type": "code",
   "execution_count": 8,
   "metadata": {},
   "outputs": [],
   "source": [
    "# Layer1 : Layer2\n",
    "\n",
    "np.random.seed(4)\n",
    "num_L1_comps = np.random.randint(3,10, size=size_L1_components)\n",
    "np.random.seed(5)\n",
    "L2_inds = np.random.randint(0,size_L2_components, size=sum(num_L1_comps))\n",
    "\n",
    "np.random.seed(6)\n",
    "L1_qp_numerators = np.random.randint(1,10, size=sum(num_L1_comps))\n",
    "np.random.seed(7)\n",
    "L1_qp_denominators = np.random.randint(1,10, size=sum(num_L1_comps))\n",
    "L1_qty_pers = np.around(L1_qp_numerators/L1_qp_denominators, 3)\n",
    "\n",
    "L1_comp_ind = 0\n",
    "for i in range(size_L1_components):\n",
    "    parent = L1_components[i]\n",
    "    num_comps = num_L1_comps[i]\n",
    "\n",
    "    for j in range(num_comps):\n",
    "        component = L2_components[L2_inds[L1_comp_ind]]\n",
    "        qty_per = L1_qty_pers[L1_comp_ind]\n",
    "        L1_comp_ind += 1\n",
    "        temp = pd.DataFrame(\n",
    "            data=[[parent, component, qty_per]],\n",
    "            columns=[\"Parent\", \"Component\", \"QtyPer\"]\n",
    "            )\n",
    "        BoMStructure = BoMStructure.append(temp)"
   ]
  },
  {
   "cell_type": "code",
   "execution_count": 10,
   "metadata": {},
   "outputs": [],
   "source": [
    "BoMStructure.to_csv(os.path.join(os.getcwd(), \"data\", \"..\",  \"Test_BoMStructure.csv\"), index=False)\n",
    "ProductCodes.to_csv(os.path.join(os.getcwd(), \"data\",  \"..\", \"Test_ProductSKUs.csv\"), index=False)\n"
   ]
  }
 ],
 "metadata": {
  "interpreter": {
   "hash": "eade5279d52f38f60a762b181966441596c4c44e9792a8000fb9052f2509591c"
  },
  "kernelspec": {
   "display_name": "Python 3.8.5 64-bit ('base': conda)",
   "name": "python3"
  },
  "language_info": {
   "codemirror_mode": {
    "name": "ipython",
    "version": 3
   },
   "file_extension": ".py",
   "mimetype": "text/x-python",
   "name": "python",
   "nbconvert_exporter": "python",
   "pygments_lexer": "ipython3",
   "version": "3.8.12"
  },
  "orig_nbformat": 4
 },
 "nbformat": 4,
 "nbformat_minor": 2
}
